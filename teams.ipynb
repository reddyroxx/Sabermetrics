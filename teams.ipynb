{
 "cells": [
  {
   "cell_type": "code",
   "execution_count": 1,
   "metadata": {},
   "outputs": [],
   "source": [
    "import pandas as pd\n",
    "import numpy as np\n",
    "import scipy as sp\n",
    "import matplotlib.pyplot as plt\n",
    "from matplotlib.ticker import FuncFormatter"
   ]
  },
  {
   "cell_type": "code",
   "execution_count": null,
   "metadata": {
    "collapsed": true
   },
   "outputs": [],
   "source": []
  },
  {
   "cell_type": "code",
   "execution_count": 2,
   "metadata": {},
   "outputs": [
    {
     "data": {
      "text/plain": [
       "'\\nyearID: Year\\nteamID: Team\\nRank: Position in final standings\\nR: Runs scored\\nRA: Opponents runs scored\\nG: Games played\\nW: Wins\\nH: Hits by batters\\nBB: Walks by batters\\nHBP: Batters hit by pitch\\nAB: At bats\\nSF: Sacrifice flies\\nHR: Homeruns by batters\\n2B: Doubles\\n3B: Triples\\n'"
      ]
     },
     "execution_count": 2,
     "metadata": {},
     "output_type": "execute_result"
    }
   ],
   "source": [
    "teams = pd.read_csv('Teams.csv')\n",
    "teams = teams[['yearID', 'teamID', 'Rank', 'R', 'RA', 'G', 'W', 'H', 'BB', 'HBP', 'AB', 'SF', 'HR', '2B', '3B','name']]\n",
    "\n",
    "'''\n",
    "yearID: Year\n",
    "teamID: Team\n",
    "Rank: Position in final standings\n",
    "R: Runs scored\n",
    "RA: Opponents runs scored\n",
    "G: Games played\n",
    "W: Wins\n",
    "H: Hits by batters\n",
    "BB: Walks by batters\n",
    "HBP: Batters hit by pitch\n",
    "AB: At bats\n",
    "SF: Sacrifice flies\n",
    "HR: Homeruns by batters\n",
    "2B: Doubles\n",
    "3B: Triples\n",
    "'''"
   ]
  },
  {
   "cell_type": "code",
   "execution_count": 3,
   "metadata": {},
   "outputs": [
    {
     "name": "stdout",
     "output_type": "stream",
     "text": [
      "years VS Final Standings\n"
     ]
    },
    {
     "data": {
      "text/plain": [
       "{1871: 'Philadelphia Athletics',\n",
       " 1872: 'Boston Red Stockings',\n",
       " 1873: 'Boston Red Stockings',\n",
       " 1874: 'Boston Red Stockings',\n",
       " 1875: 'Boston Red Stockings',\n",
       " 1876: 'Chicago White Stockings',\n",
       " 1877: 'Boston Red Caps',\n",
       " 1878: 'Boston Red Caps',\n",
       " 1879: 'Providence Grays',\n",
       " 1880: 'Chicago White Stockings',\n",
       " 1881: 'Chicago White Stockings',\n",
       " 1882: 'Chicago White Stockings',\n",
       " 1883: 'Boston Beaneaters',\n",
       " 1884: 'St. Louis Maroons',\n",
       " 1885: 'Chicago White Stockings',\n",
       " 1886: 'Chicago White Stockings',\n",
       " 1887: 'Detroit Wolverines',\n",
       " 1888: 'New York Giants',\n",
       " 1889: 'New York Giants',\n",
       " 1890: 'Boston Reds',\n",
       " 1891: 'Boston Beaneaters',\n",
       " 1892: 'Boston Beaneaters',\n",
       " 1893: 'Boston Beaneaters',\n",
       " 1894: 'Baltimore Orioles',\n",
       " 1895: 'Baltimore Orioles',\n",
       " 1896: 'Baltimore Orioles',\n",
       " 1897: 'Boston Beaneaters',\n",
       " 1898: 'Boston Beaneaters',\n",
       " 1899: 'Brooklyn Superbas',\n",
       " 1900: 'Brooklyn Superbas',\n",
       " 1901: 'Pittsburgh Pirates',\n",
       " 1902: 'Pittsburgh Pirates',\n",
       " 1903: 'Pittsburgh Pirates',\n",
       " 1904: 'New York Giants',\n",
       " 1905: 'New York Giants',\n",
       " 1906: 'Chicago Cubs',\n",
       " 1907: 'Chicago Cubs',\n",
       " 1908: 'Chicago Cubs',\n",
       " 1909: 'Pittsburgh Pirates',\n",
       " 1910: 'Chicago Cubs',\n",
       " 1911: 'New York Giants',\n",
       " 1912: 'New York Giants',\n",
       " 1913: 'New York Giants',\n",
       " 1914: 'Boston Braves',\n",
       " 1915: 'Philadelphia Phillies',\n",
       " 1916: 'Brooklyn Robins',\n",
       " 1917: 'New York Giants',\n",
       " 1918: 'Chicago Cubs',\n",
       " 1919: 'Cincinnati Reds',\n",
       " 1920: 'Brooklyn Robins',\n",
       " 1921: 'New York Giants',\n",
       " 1922: 'New York Giants',\n",
       " 1923: 'New York Giants',\n",
       " 1924: 'New York Giants',\n",
       " 1925: 'Pittsburgh Pirates',\n",
       " 1926: 'St. Louis Cardinals',\n",
       " 1927: 'Pittsburgh Pirates',\n",
       " 1928: 'St. Louis Cardinals',\n",
       " 1929: 'Chicago Cubs',\n",
       " 1930: 'St. Louis Cardinals',\n",
       " 1931: 'St. Louis Cardinals',\n",
       " 1932: 'Chicago Cubs',\n",
       " 1933: 'New York Giants',\n",
       " 1934: 'St. Louis Cardinals',\n",
       " 1935: 'Chicago Cubs',\n",
       " 1936: 'New York Giants',\n",
       " 1937: 'New York Giants',\n",
       " 1938: 'Chicago Cubs',\n",
       " 1939: 'Cincinnati Reds',\n",
       " 1940: 'Cincinnati Reds',\n",
       " 1941: 'Brooklyn Dodgers',\n",
       " 1942: 'St. Louis Cardinals',\n",
       " 1943: 'St. Louis Cardinals',\n",
       " 1944: 'St. Louis Cardinals',\n",
       " 1945: 'Chicago Cubs',\n",
       " 1946: 'St. Louis Cardinals',\n",
       " 1947: 'Brooklyn Dodgers',\n",
       " 1948: 'Boston Braves',\n",
       " 1949: 'Brooklyn Dodgers',\n",
       " 1950: 'Philadelphia Phillies',\n",
       " 1951: 'New York Giants',\n",
       " 1952: 'Brooklyn Dodgers',\n",
       " 1953: 'Brooklyn Dodgers',\n",
       " 1954: 'New York Giants',\n",
       " 1955: 'Brooklyn Dodgers',\n",
       " 1956: 'Brooklyn Dodgers',\n",
       " 1957: 'Milwaukee Braves',\n",
       " 1958: 'Milwaukee Braves',\n",
       " 1959: 'Los Angeles Dodgers',\n",
       " 1960: 'Pittsburgh Pirates',\n",
       " 1961: 'Cincinnati Reds',\n",
       " 1962: 'San Francisco Giants',\n",
       " 1963: 'Los Angeles Dodgers',\n",
       " 1964: 'St. Louis Cardinals',\n",
       " 1965: 'Los Angeles Dodgers',\n",
       " 1966: 'Los Angeles Dodgers',\n",
       " 1967: 'St. Louis Cardinals',\n",
       " 1968: 'St. Louis Cardinals',\n",
       " 1969: 'Atlanta Braves',\n",
       " 1970: 'Cincinnati Reds',\n",
       " 1971: 'San Francisco Giants',\n",
       " 1972: 'Cincinnati Reds',\n",
       " 1973: 'Cincinnati Reds',\n",
       " 1974: 'Los Angeles Dodgers',\n",
       " 1975: 'Cincinnati Reds',\n",
       " 1976: 'Cincinnati Reds',\n",
       " 1977: 'Los Angeles Dodgers',\n",
       " 1978: 'Los Angeles Dodgers',\n",
       " 1979: 'Cincinnati Reds',\n",
       " 1980: 'Houston Astros',\n",
       " 1981: 'Cincinnati Reds',\n",
       " 1982: 'Atlanta Braves',\n",
       " 1983: 'Los Angeles Dodgers',\n",
       " 1984: 'San Diego Padres',\n",
       " 1985: 'Los Angeles Dodgers',\n",
       " 1986: 'Houston Astros',\n",
       " 1987: 'San Francisco Giants',\n",
       " 1988: 'Los Angeles Dodgers',\n",
       " 1989: 'San Francisco Giants',\n",
       " 1990: 'Cincinnati Reds',\n",
       " 1991: 'Atlanta Braves',\n",
       " 1992: 'Atlanta Braves',\n",
       " 1993: 'Atlanta Braves',\n",
       " 1994: 'Los Angeles Dodgers',\n",
       " 1995: 'Los Angeles Dodgers',\n",
       " 1996: 'San Diego Padres',\n",
       " 1997: 'San Francisco Giants',\n",
       " 1998: 'San Diego Padres',\n",
       " 1999: 'Arizona Diamondbacks',\n",
       " 2000: 'San Francisco Giants',\n",
       " 2001: 'Arizona Diamondbacks',\n",
       " 2002: 'Arizona Diamondbacks',\n",
       " 2003: 'San Francisco Giants',\n",
       " 2004: 'Los Angeles Dodgers',\n",
       " 2005: 'San Diego Padres',\n",
       " 2006: 'San Diego Padres',\n",
       " 2007: 'Arizona Diamondbacks',\n",
       " 2008: 'Los Angeles Dodgers',\n",
       " 2009: 'Los Angeles Dodgers',\n",
       " 2010: 'San Francisco Giants',\n",
       " 2011: 'Arizona Diamondbacks',\n",
       " 2012: 'San Francisco Giants',\n",
       " 2013: 'Los Angeles Dodgers'}"
      ]
     },
     "execution_count": 3,
     "metadata": {},
     "output_type": "execute_result"
    }
   ],
   "source": [
    "l=[]\n",
    "m=[]\n",
    "l1=list(teams['Rank'])\n",
    "l2=list(teams['name'])\n",
    "l3=list(teams['yearID'])\n",
    "for i in range(len(l1)):\n",
    "    if l1[i]==1:\n",
    "        l.append(l2[i])\n",
    "        m.append(l3[i])\n",
    "d=dict(zip(m,l))        \n",
    "print(\"years VS Final Standings\")    \n",
    "d"
   ]
  },
  {
   "cell_type": "code",
   "execution_count": 4,
   "metadata": {},
   "outputs": [
    {
     "name": "stdout",
     "output_type": "stream",
     "text": [
      "team with maximum number of Title Win over the years\n"
     ]
    },
    {
     "data": {
      "text/plain": [
       "'New York Yankees'"
      ]
     },
     "execution_count": 4,
     "metadata": {},
     "output_type": "execute_result"
    }
   ],
   "source": [
    "print(\"team with maximum number of Title Win over the years\")\n",
    "max(set(l), key = l.count)"
   ]
  },
  {
   "cell_type": "code",
   "execution_count": null,
   "metadata": {
    "collapsed": true
   },
   "outputs": [],
   "source": []
  },
  {
   "cell_type": "code",
   "execution_count": null,
   "metadata": {
    "collapsed": true
   },
   "outputs": [],
   "source": []
  },
  {
   "cell_type": "code",
   "execution_count": 14,
   "metadata": {},
   "outputs": [
    {
     "name": "stdout",
     "output_type": "stream",
     "text": [
      "Teams vs Total number of wins over the years\n"
     ]
    },
    {
     "data": {
      "text/plain": [
       "{'Altoona Mountain City': 6,\n",
       " 'Anaheim Angels': 664,\n",
       " 'Arizona Diamondbacks': 1291,\n",
       " 'Atlanta Braves': 3960,\n",
       " 'Baltimore Canaries': 78,\n",
       " 'Baltimore Marylands': 0,\n",
       " 'Baltimore Monumentals': 58,\n",
       " 'Baltimore Orioles': 6115,\n",
       " 'Baltimore Terrapins': 131,\n",
       " 'Boston Americans': 528,\n",
       " 'Boston Beaneaters': 1742,\n",
       " 'Boston Bees': 355,\n",
       " 'Boston Braves': 2459,\n",
       " 'Boston Doves': 219,\n",
       " 'Boston Red Caps': 299,\n",
       " 'Boston Red Sox': 8547,\n",
       " 'Boston Red Stockings': 225,\n",
       " 'Boston Reds': 232,\n",
       " 'Boston Rustlers': 44,\n",
       " 'Brooklyn Atlantics': 90,\n",
       " 'Brooklyn Bridegrooms': 440,\n",
       " 'Brooklyn Dodgers': 2339,\n",
       " 'Brooklyn Eckfords': 3,\n",
       " 'Brooklyn Gladiators': 26,\n",
       " 'Brooklyn Grays': 189,\n",
       " 'Brooklyn Grooms': 362,\n",
       " 'Brooklyn Robins': 1375,\n",
       " 'Brooklyn Superbas': 879,\n",
       " 'Brooklyn Tip-Tops': 147,\n",
       " \"Brooklyn Ward's Wonders\": 76,\n",
       " 'Buffalo Bisons': 350,\n",
       " 'Buffalo Blues': 74,\n",
       " 'Buffalo Buffeds': 80,\n",
       " 'California Angels': 2440,\n",
       " 'Chicago Chi-Feds': 87,\n",
       " 'Chicago Colts': 550,\n",
       " 'Chicago Cubs': 8694,\n",
       " 'Chicago Orphans': 346,\n",
       " 'Chicago Pirates': 75,\n",
       " 'Chicago Whales': 86,\n",
       " 'Chicago White Sox': 8858,\n",
       " 'Chicago White Stockings': 922,\n",
       " 'Chicago/Pittsburgh (Union League)': 41,\n",
       " \"Cincinnati Kelly's Killers\": 43,\n",
       " 'Cincinnati Outlaw Reds': 69,\n",
       " 'Cincinnati Red Stockings': 549,\n",
       " 'Cincinnati Redlegs': 470,\n",
       " 'Cincinnati Reds': 9287,\n",
       " 'Cleveland Blues': 385,\n",
       " 'Cleveland Bronchos': 69,\n",
       " 'Cleveland Forest Citys': 16,\n",
       " 'Cleveland Indians': 7871,\n",
       " 'Cleveland Infants': 55,\n",
       " 'Cleveland Naps': 937,\n",
       " 'Cleveland Spiders': 738,\n",
       " 'Colorado Rockies': 1575,\n",
       " 'Columbus Buckeyes': 101,\n",
       " 'Columbus Solons': 200,\n",
       " 'Detroit Tigers': 8921,\n",
       " 'Detroit Wolverines': 426,\n",
       " 'Elizabeth Resolutes': 2,\n",
       " 'Florida Marlins': 1435,\n",
       " 'Fort Wayne Kekiongas': 7,\n",
       " 'Hartford Dark Blues': 148,\n",
       " 'Houston Astros': 3854,\n",
       " \"Houston Colt .45's\": 196,\n",
       " 'Indianapolis Blues': 24,\n",
       " 'Indianapolis Hoosiers': 263,\n",
       " 'Kansas City Athletics': 829,\n",
       " 'Kansas City Cowboys': 144,\n",
       " 'Kansas City Packers': 148,\n",
       " 'Kansas City Royals': 3439,\n",
       " 'Keokuk Westerns': 1,\n",
       " 'Los Angeles Angels': 308,\n",
       " 'Los Angeles Angels of Anaheim': 808,\n",
       " 'Los Angeles Dodgers': 4771,\n",
       " 'Louisville Colonels': 831,\n",
       " 'Louisville Eclipse': 162,\n",
       " 'Louisville Grays': 65,\n",
       " 'Miami Marlins': 131,\n",
       " 'Middletown Mansfields': 5,\n",
       " 'Milwaukee Braves': 1146,\n",
       " 'Milwaukee Brewers': 3432,\n",
       " 'Milwaukee Grays': 15,\n",
       " 'Minnesota Twins': 4204,\n",
       " 'Montreal Expos': 2755,\n",
       " 'New Haven Elm Citys': 7,\n",
       " 'New York Giants': 6033,\n",
       " 'New York Gothams': 108,\n",
       " 'New York Highlanders': 734,\n",
       " 'New York Metropolitans': 270,\n",
       " 'New York Mets': 3959,\n",
       " 'New York Mutuals': 172,\n",
       " 'New York Yankees': 9095,\n",
       " 'Newark Pepper': 80,\n",
       " 'Oakland Athletics': 3819,\n",
       " 'Philadelphia Athletics': 4766,\n",
       " 'Philadelphia Blue Jays': 125,\n",
       " 'Philadelphia Centennials': 2,\n",
       " 'Philadelphia Keystones': 21,\n",
       " 'Philadelphia Phillies': 8876,\n",
       " 'Philadelphia Quakers': 390,\n",
       " 'Philadelphia Whites': 102,\n",
       " 'Pittsburg Alleghenys': 441,\n",
       " 'Pittsburgh Burghers': 60,\n",
       " 'Pittsburgh Pirates': 9614,\n",
       " 'Pittsburgh Rebels': 150,\n",
       " 'Providence Grays': 438,\n",
       " 'Richmond Virginians': 12,\n",
       " 'Rochester Broncos': 63,\n",
       " 'Rockford Forest Citys': 4,\n",
       " 'San Diego Padres': 3321,\n",
       " 'San Francisco Giants': 4625,\n",
       " 'Seattle Mariners': 2735,\n",
       " 'Seattle Pilots': 64,\n",
       " 'St. Louis Brown Stockings': 149,\n",
       " 'St. Louis Browns': 4474,\n",
       " 'St. Louis Cardinals': 9200,\n",
       " 'St. Louis Maroons': 173,\n",
       " 'St. Louis Perfectos': 84,\n",
       " 'St. Louis Red Stockings': 4,\n",
       " 'St. Louis Terriers': 149,\n",
       " 'St. Paul White Caps': 2,\n",
       " 'Syracuse Stars': 77,\n",
       " 'Tampa Bay Devil Rays': 645,\n",
       " 'Tampa Bay Rays': 550,\n",
       " 'Texas Rangers': 3287,\n",
       " 'Toledo Blue Stockings': 46,\n",
       " 'Toledo Maumees': 68,\n",
       " 'Toronto Blue Jays': 2902,\n",
       " 'Troy Haymakers': 28,\n",
       " 'Troy Trojans': 134,\n",
       " 'Washington Blue Legs': 8,\n",
       " 'Washington Nationals': 903,\n",
       " 'Washington Olympics': 17,\n",
       " 'Washington Senators': 5373,\n",
       " 'Washington Statesmen': 44,\n",
       " 'Wilmington Quicksteps': 2,\n",
       " 'Worcester Ruby Legs': 90}"
      ]
     },
     "execution_count": 14,
     "metadata": {},
     "output_type": "execute_result"
    }
   ],
   "source": [
    "a=list(set(list(teams['name'])))\n",
    "b=[0]*len(a)\n",
    "dict1=dict(zip(a,b))\n",
    "l=list(teams['W'])\n",
    "l1=list(teams['name'])\n",
    "for i in range(len(l1)):\n",
    "    if l1[i] in dict1:\n",
    "        dict1[l1[i]]=dict1[l1[i]]+l[i]\n",
    "print(\"Teams vs Total number of wins over the years\")        \n",
    "dict1        "
   ]
  },
  {
   "cell_type": "code",
   "execution_count": 24,
   "metadata": {},
   "outputs": [
    {
     "name": "stdout",
     "output_type": "stream",
     "text": [
      "Team with maximum total number of wins is Pittsburgh Pirates over the years with 9614 wins\n"
     ]
    }
   ],
   "source": [
    "import operator\n",
    "a=max(dict1.items(), key=operator.itemgetter(1))[0]\n",
    "#print(\"Team with maximum total number of wins is\"  ,a, \"over the years with\" ,dict1[a] ,\"wins\")\n",
    "print(\"Team with maximum total number of wins is %s over the years with %d wins\"%(a,dict1[a]))"
   ]
  },
  {
   "cell_type": "code",
   "execution_count": null,
   "metadata": {
    "collapsed": true
   },
   "outputs": [],
   "source": []
  }
 ],
 "metadata": {
  "kernelspec": {
   "display_name": "Python 3",
   "language": "python",
   "name": "python3"
  },
  "language_info": {
   "codemirror_mode": {
    "name": "ipython",
    "version": 3
   },
   "file_extension": ".py",
   "mimetype": "text/x-python",
   "name": "python",
   "nbconvert_exporter": "python",
   "pygments_lexer": "ipython3",
   "version": "3.6.3"
  }
 },
 "nbformat": 4,
 "nbformat_minor": 2
}
